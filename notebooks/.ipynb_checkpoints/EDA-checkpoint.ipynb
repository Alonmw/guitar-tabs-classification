{
 "cells": [
  {
   "metadata": {},
   "cell_type": "markdown",
   "source": "*Notebook goal: perform EDA on preprocessed data under /data/preprocessed/*",
   "id": "fc49d6a62cdda489"
  },
  {
   "metadata": {},
   "cell_type": "markdown",
   "source": "Import necessary modules",
   "id": "824dafb17cada97d"
  },
  {
   "cell_type": "code",
   "id": "initial_id",
   "metadata": {
    "collapsed": true,
    "ExecuteTime": {
     "end_time": "2025-03-20T13:37:56.564983Z",
     "start_time": "2025-03-20T13:37:55.489602Z"
    }
   },
   "source": [
    "import numpy as np\n",
    "import os\n",
    "import matplotlib.pyplot as plt\n",
    "import librosa.display"
   ],
   "outputs": [],
   "execution_count": 1
  },
  {
   "metadata": {},
   "cell_type": "markdown",
   "source": "",
   "id": "d990075853c3e6bf"
  },
  {
   "metadata": {},
   "cell_type": "markdown",
   "source": "",
   "id": "63ee4e19ef6db08e"
  }
 ],
 "metadata": {
  "kernelspec": {
   "display_name": "Python 3",
   "language": "python",
   "name": "python3"
  },
  "language_info": {
   "codemirror_mode": {
    "name": "ipython",
    "version": 2
   },
   "file_extension": ".py",
   "mimetype": "text/x-python",
   "name": "python",
   "nbconvert_exporter": "python",
   "pygments_lexer": "ipython2",
   "version": "2.7.6"
  }
 },
 "nbformat": 4,
 "nbformat_minor": 5
}
