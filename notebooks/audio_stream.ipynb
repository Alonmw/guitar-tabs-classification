{
 "cells": [
  {
   "cell_type": "code",
   "id": "initial_id",
   "metadata": {
    "collapsed": true,
    "ExecuteTime": {
     "end_time": "2025-04-09T11:57:28.027136Z",
     "start_time": "2025-04-09T11:57:27.988566Z"
    }
   },
   "source": "from server.audio_stream import start_stream, audio_queue",
   "outputs": [],
   "execution_count": 1
  },
  {
   "metadata": {
    "ExecuteTime": {
     "end_time": "2025-04-09T11:57:48.029197Z",
     "start_time": "2025-04-09T11:57:45.348791Z"
    }
   },
   "cell_type": "code",
   "source": "start_stream()",
   "id": "7dd3a79e94785f2b",
   "outputs": [],
   "execution_count": 2
  },
  {
   "metadata": {
    "ExecuteTime": {
     "end_time": "2025-04-09T11:57:55.537354Z",
     "start_time": "2025-04-09T11:57:55.533339Z"
    }
   },
   "cell_type": "code",
   "source": "audio_queue",
   "id": "c80cb8332bf98c12",
   "outputs": [
    {
     "data": {
      "text/plain": [
       "<queue.Queue at 0x103d674c0>"
      ]
     },
     "execution_count": 3,
     "metadata": {},
     "output_type": "execute_result"
    }
   ],
   "execution_count": 3
  },
  {
   "metadata": {
    "ExecuteTime": {
     "end_time": "2025-04-09T11:58:29.790787Z",
     "start_time": "2025-04-09T11:58:29.785615Z"
    }
   },
   "cell_type": "code",
   "source": "audio_queue.get().shape",
   "id": "dcf86d3b6312a8be",
   "outputs": [
    {
     "data": {
      "text/plain": [
       "(2048,)"
      ]
     },
     "execution_count": 5,
     "metadata": {},
     "output_type": "execute_result"
    }
   ],
   "execution_count": 5
  },
  {
   "metadata": {},
   "cell_type": "code",
   "outputs": [],
   "execution_count": null,
   "source": "",
   "id": "de275c337280fcd5"
  }
 ],
 "metadata": {
  "kernelspec": {
   "display_name": "Python 3",
   "language": "python",
   "name": "python3"
  },
  "language_info": {
   "codemirror_mode": {
    "name": "ipython",
    "version": 2
   },
   "file_extension": ".py",
   "mimetype": "text/x-python",
   "name": "python",
   "nbconvert_exporter": "python",
   "pygments_lexer": "ipython2",
   "version": "2.7.6"
  }
 },
 "nbformat": 4,
 "nbformat_minor": 5
}
