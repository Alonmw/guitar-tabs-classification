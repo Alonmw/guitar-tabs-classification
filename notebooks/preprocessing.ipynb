{
 "cells": [
  {
   "cell_type": "code",
   "id": "initial_id",
   "metadata": {
    "collapsed": true,
    "ExecuteTime": {
     "end_time": "2025-03-19T16:44:25.733458Z",
     "start_time": "2025-03-19T16:44:25.723459Z"
    }
   },
   "source": "from src.visualization import plot_cqt",
   "outputs": [],
   "execution_count": 2
  },
  {
   "metadata": {
    "ExecuteTime": {
     "end_time": "2025-03-19T16:54:20.866361Z",
     "start_time": "2025-03-19T16:54:20.853325Z"
    }
   },
   "cell_type": "code",
   "source": [
    "from src.data_utils.preprocessing import *\n",
    "import os"
   ],
   "id": "49e7e187c0774b00",
   "outputs": [],
   "execution_count": 7
  },
  {
   "metadata": {
    "ExecuteTime": {
     "end_time": "2025-03-19T16:45:44.312349Z",
     "start_time": "2025-03-19T16:45:44.308329Z"
    }
   },
   "cell_type": "code",
   "source": "audio_path = 'data/raw/D0/A0-B0-D0-e0-Eb0-G0-fpick/D0_fingerpick-01.wav'",
   "id": "d67a806140f60e65",
   "outputs": [],
   "execution_count": 4
  },
  {
   "metadata": {
    "ExecuteTime": {
     "end_time": "2025-03-19T17:01:14.569807Z",
     "start_time": "2025-03-19T17:01:14.554798Z"
    }
   },
   "cell_type": "code",
   "source": [
    "PARENT_DIR = os.path.dirname(os.getcwd())  # Get the parent of the current CWD\n",
    "os.chdir(PARENT_DIR)"
   ],
   "id": "64f69781ba17a3e5",
   "outputs": [],
   "execution_count": 9
  },
  {
   "metadata": {
    "ExecuteTime": {
     "end_time": "2025-03-19T17:04:29.181735Z",
     "start_time": "2025-03-19T17:04:29.172736Z"
    }
   },
   "cell_type": "code",
   "source": "audio, sr = load_audio(audio_path)",
   "id": "81fd4c8380709c94",
   "outputs": [],
   "execution_count": 22
  },
  {
   "metadata": {
    "ExecuteTime": {
     "end_time": "2025-03-19T17:04:30.581927Z",
     "start_time": "2025-03-19T17:04:30.561714Z"
    }
   },
   "cell_type": "code",
   "source": "audio",
   "id": "699f47f1ea484d7a",
   "outputs": [
    {
     "data": {
      "text/plain": [
       "array([-6.8634748e-05, -6.3233078e-05,  9.9316239e-05, ...,\n",
       "        3.1036502e-04,  3.9156686e-04,  2.4417910e-04], dtype=float32)"
      ]
     },
     "execution_count": 23,
     "metadata": {},
     "output_type": "execute_result"
    }
   ],
   "execution_count": 23
  },
  {
   "metadata": {
    "ExecuteTime": {
     "end_time": "2025-03-19T17:04:34.769691Z",
     "start_time": "2025-03-19T17:04:31.323207Z"
    }
   },
   "cell_type": "code",
   "source": [
    "cqt = audio_to_cqt(audio, sr)\n",
    "cqt"
   ],
   "id": "cc28be9edf7cac86",
   "outputs": [
    {
     "name": "stderr",
     "output_type": "stream",
     "text": [
      "C:\\Users\\User\\PycharmProjects\\guitar-tabs-classification\\src\\preprocessing.py:20: UserWarning: amplitude_to_db was called on complex input so phase information will be discarded. To suppress this warning, call amplitude_to_db(np.abs(S)) instead.\n",
      "  cqt = librosa.amplitude_to_db(librosa.cqt(harmonic, sr=sr), ref=np.max)\n"
     ]
    },
    {
     "data": {
      "text/plain": [
       "array([[-61.032898, -61.15428 , -61.931465, ..., -80.      , -80.      ,\n",
       "        -80.      ],\n",
       "       [-59.963448, -59.914207, -60.27584 , ..., -77.91877 , -77.98291 ,\n",
       "        -78.59618 ],\n",
       "       [-59.854347, -59.63587 , -61.388374, ..., -70.592224, -73.85099 ,\n",
       "        -73.69144 ],\n",
       "       ...,\n",
       "       [-55.06804 , -54.073265, -55.00875 , ..., -80.      , -80.      ,\n",
       "        -80.      ],\n",
       "       [-54.696075, -56.07144 , -62.111374, ..., -80.      , -80.      ,\n",
       "        -80.      ],\n",
       "       [-55.05065 , -59.484184, -65.23612 , ..., -80.      , -80.      ,\n",
       "        -80.      ]], dtype=float32)"
      ]
     },
     "execution_count": 24,
     "metadata": {},
     "output_type": "execute_result"
    }
   ],
   "execution_count": 24
  },
  {
   "metadata": {
    "ExecuteTime": {
     "end_time": "2025-03-19T17:06:07.359183Z",
     "start_time": "2025-03-19T17:06:07.351158Z"
    }
   },
   "cell_type": "code",
   "source": [
    "cqt = normalize_cqt(cqt)\n",
    "cqt"
   ],
   "id": "4acca96046da2654",
   "outputs": [
    {
     "data": {
      "text/plain": [
       "array([[-0.1112024 , -0.11728164, -0.15620516, ..., -1.0611279 ,\n",
       "        -1.0611279 , -1.0611279 ],\n",
       "       [-0.05764133, -0.05517525, -0.07328686, ..., -0.9568941 ,\n",
       "        -0.96010643, -0.9908209 ],\n",
       "       [-0.05217728, -0.04123543, -0.12900566, ..., -0.5899602 ,\n",
       "        -0.7531683 , -0.74517745],\n",
       "       ...,\n",
       "       [ 0.18753442,  0.23735547,  0.19050373, ..., -1.0611279 ,\n",
       "        -1.0611279 , -1.0611279 ],\n",
       "       [ 0.20616339,  0.13728121, -0.16521549, ..., -1.0611279 ,\n",
       "        -1.0611279 , -1.0611279 ],\n",
       "       [ 0.18840523, -0.03363849, -0.32171163, ..., -1.0611279 ,\n",
       "        -1.0611279 , -1.0611279 ]], dtype=float32)"
      ]
     },
     "execution_count": 26,
     "metadata": {},
     "output_type": "execute_result"
    }
   ],
   "execution_count": 26
  },
  {
   "metadata": {
    "ExecuteTime": {
     "end_time": "2025-03-20T17:18:43.627875Z",
     "start_time": "2025-03-20T17:18:43.389717Z"
    }
   },
   "cell_type": "code",
   "source": "plot_cqt(cqt, sr)",
   "id": "50dec92e00054c4a",
   "outputs": [
    {
     "ename": "NameError",
     "evalue": "name 'plot_cqt' is not defined",
     "output_type": "error",
     "traceback": [
      "\u001B[1;31m---------------------------------------------------------------------------\u001B[0m",
      "\u001B[1;31mNameError\u001B[0m                                 Traceback (most recent call last)",
      "Cell \u001B[1;32mIn[1], line 1\u001B[0m\n\u001B[1;32m----> 1\u001B[0m \u001B[43mplot_cqt\u001B[49m(cqt, sr)\n",
      "\u001B[1;31mNameError\u001B[0m: name 'plot_cqt' is not defined"
     ]
    }
   ],
   "execution_count": 1
  },
  {
   "metadata": {},
   "cell_type": "code",
   "outputs": [],
   "execution_count": null,
   "source": "",
   "id": "35aff7f311fbbfbc"
  }
 ],
 "metadata": {
  "kernelspec": {
   "display_name": "Python 3",
   "language": "python",
   "name": "python3"
  },
  "language_info": {
   "codemirror_mode": {
    "name": "ipython",
    "version": 2
   },
   "file_extension": ".py",
   "mimetype": "text/x-python",
   "name": "python",
   "nbconvert_exporter": "python",
   "pygments_lexer": "ipython2",
   "version": "2.7.6"
  }
 },
 "nbformat": 4,
 "nbformat_minor": 5
}
